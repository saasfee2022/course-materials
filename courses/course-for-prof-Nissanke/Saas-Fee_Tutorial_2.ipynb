{
 "cells": [
  {
   "cell_type": "code",
   "execution_count": 21,
   "id": "b16759cd",
   "metadata": {},
   "outputs": [],
   "source": [
    "import pycbc\n",
    "import numpy as np\n",
    "from matplotlib import pyplot\n",
    "from IPython.display import Image"
   ]
  },
  {
   "cell_type": "markdown",
   "id": "78e5bb2a",
   "metadata": {},
   "source": [
    "### Gravitational wave data analysis on a simulated signal"
   ]
  },
  {
   "cell_type": "markdown",
   "id": "37dc0aa3",
   "metadata": {},
   "source": [
    "<div class=\"alert alert-block alert-info\"> \n",
    "\n",
    "For this exercise we are going to perform data analysis on a simulated binary neutron star or black hole - neutron star signal. We again use the relative binning method that is built-in PyCBC to speed up the analysis, that is otherwise too expensive to run within a feasible time on a laptop. \n",
    "\n",
    "In the \"Injections\" directory you'll find 60 different simulated signals. Because the relative binning method requires a reference waveform the masses of the two components are available in the masses_{i}.txt file. Use what you have seen in the previous notebook to generate a posterior distribution on parameters of your choice, like the masses, tidal deformability (deformabilities), distance, inclination and spins. Note that the more parameters you choose to infer, the longer a run will take. For simplicity we've fixed the sky position to ra = 3.44 and dec = -0.41 and the polarization to 0. A starting point for the configuration file is below. (The injection parameters can be found if necessary in the directory \"InjectionParameters\", but try first without looking at these."
   ]
  },
  {
   "cell_type": "markdown",
   "id": "b0991701",
   "metadata": {},
   "source": [
    "<div class=\"alert alert-block alert-info\"> \n",
    "\n",
    "*Useful tips:* \n",
    "- *Since the chirp mass is measured very precisely, sampling in this parameter speeds up the inference (`pycbc.transforms` can be useful here)* \n",
    "- *Use pycbc to get a rough estimate of the duration of the signal*\n",
    "- *Use a very small value for the epsilon parameter for the relative binning, i.e. ~0.001 - 0.01*"
   ]
  },
  {
   "cell_type": "code",
   "execution_count": 11,
   "id": "436f8920",
   "metadata": {},
   "outputs": [],
   "source": [
    "config_file = \"\"\"\n",
    "[data]\n",
    "instruments = H1 L1 V1 \n",
    "trigger-time = 1234567890\n",
    "analysis-start-time = \n",
    "analysis-end-time = \n",
    "sample-rate = 4096\n",
    "fake-strain = H1:aLIGOZeroDetHighPower L1:aLIGOZeroDetHighPower V1:AdvVirgo \n",
    "fake-strain-seed = H1:44 L1:45 V1:46\n",
    "psd-estimation = median-mean\n",
    "psd-inverse-length = 8\n",
    "psd-segment-length = 8\n",
    "psd-segment-stride = 4\n",
    "psd-start-time = -256\n",
    "psd-end-time = 256\n",
    "channel-name = H1:STRAIN L1:STRAIN V1:STRAIN \n",
    "injection-file = \n",
    "strain-high-pass = 15\n",
    "pad-data = 8\n",
    "\n",
    "Add your own code here\n",
    "\"\"\""
   ]
  },
  {
   "cell_type": "code",
   "execution_count": 12,
   "id": "e2d4c362",
   "metadata": {},
   "outputs": [],
   "source": [
    "!echo '{config_file}' > config.ini"
   ]
  },
  {
   "cell_type": "code",
   "execution_count": null,
   "id": "acff7aa6",
   "metadata": {},
   "outputs": [],
   "source": [
    "!pycbc_inference --verbose   \\\n",
    "--config-files config.ini   \\\n",
    "--output-file posterior.hdf \\\n",
    "--seed 32148  \\\n",
    "--nprocesses 2    \\\n",
    "--force"
   ]
  },
  {
   "cell_type": "markdown",
   "id": "65210a49",
   "metadata": {},
   "source": [
    "### Optional questions: \n",
    "<div class=\"alert alert-block alert-success\"> \n",
    "\n",
    "1. What are the most important degeneracies between different parameters? \n",
    "2. What happens with different network configurations (for example only LIGO Livingston or with the addition of Kagra) \n",
    "3. How does the choice of waveform approximant affect the posterior distribution? "
   ]
  },
  {
   "cell_type": "code",
   "execution_count": null,
   "id": "fd08dfe6",
   "metadata": {},
   "outputs": [],
   "source": []
  }
 ],
 "metadata": {
  "kernelspec": {
   "display_name": "Python 3 (ipykernel)",
   "language": "python",
   "name": "python3"
  },
  "language_info": {
   "codemirror_mode": {
    "name": "ipython",
    "version": 3
   },
   "file_extension": ".py",
   "mimetype": "text/x-python",
   "name": "python",
   "nbconvert_exporter": "python",
   "pygments_lexer": "ipython3",
   "version": "3.7.10"
  }
 },
 "nbformat": 4,
 "nbformat_minor": 5
}
