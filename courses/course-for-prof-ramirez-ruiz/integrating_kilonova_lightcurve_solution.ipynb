{
 "cells": [
  {
   "cell_type": "code",
   "execution_count": 1,
   "metadata": {},
   "outputs": [],
   "source": [
    "from scipy.integrate import quad\n",
    "import numpy as np\n",
    "import matplotlib.pyplot as plt\n",
    "\n",
    "\n",
    "# Constants in CGS\n",
    "\n",
    "G = 6.6726e-08\n",
    "Ro = 6.96e10\n",
    "Mo = 1.99e33\n",
    "c = 2.9979e+10\n",
    "day = 60*60*24.\n",
    "erg_eV = 1./(6.24150913 *1e11) # 1 erg = 6.24150913 × 10^11 eV\n",
    "avo = 6.02214076 *1e23 # avogadros number, particles/mole \n",
    "\n",
    "\n"
   ]
  },
  {
   "cell_type": "code",
   "execution_count": 2,
   "metadata": {},
   "outputs": [
    {
     "data": {
      "text/latex": [
       "$6.6743 \\times 10^{-8} \\; \\mathrm{\\frac{cm^{3}}{g\\,s^{2}}}$"
      ],
      "text/plain": [
       "<Quantity 6.6743e-08 cm3 / (g s2)>"
      ]
     },
     "execution_count": 2,
     "metadata": {},
     "output_type": "execute_result"
    }
   ],
   "source": [
    "# You could also use astropy constants and units module\n",
    "from astropy import constants as const\n",
    "from astropy import units as u\n",
    "const.G.to(u.cm**3/u.g/u.s**2)\n"
   ]
  },
  {
   "cell_type": "markdown",
   "metadata": {},
   "source": [
    "# defining our lightcurve differential equation\n",
    "\n",
    "\n",
    "We want to plot the lightcurve, that we found in the in problem four:\n",
    "\\begin{equation}\n",
    "L(t)=\\exp \\left[-\\frac{t^{2}}{2 t_{\\mathrm{lc}}^{2}}\\right]\\left(\\frac{E_{0} R_{0}}{v t_{\\mathrm{lc}}^{2}}+\\int_{0}^{t} \\dot{\\epsilon}\\left(t^{\\prime}\\right)\\left(\\frac{t^{\\prime}}{t_{\\mathrm{lc}}^{2}}\\right) \\exp \\left[\\frac{t^{\\prime 2}}{2 t_{\\mathrm{lc}}^{2}}\\right] d t^{\\prime}\\right)\n",
    "\\end{equation}\n",
    "with the heating function:\n",
    "\\begin{equation}\n",
    "\\dot{\\epsilon} \\sim 1 eV s^{-1} *A/79 M_0 \\left(\\frac{t}{\n",
    "1 \\mathrm{day}}\\right) ^{-1.5} \n",
    "\\end{equation}\n",
    "where $A=6.02214076 \\cdot 10^{23}$ is Avogadros number, and we have devided it by the molecular mass of if the first ironpeak material $Se$ to get the amount of particles per gram, and finally multiplied with the total ejecta mass. \n",
    "\n",
    "To solve get the lightcurve, we need to integrate the heating numerically!\n",
    "\n",
    "\n",
    "\n"
   ]
  },
  {
   "cell_type": "code",
   "execution_count": 3,
   "metadata": {},
   "outputs": [],
   "source": [
    "def kilonova_lc(t,t_lc,E0,R0,v0,eps_t):\n",
    "    \n",
    "    LC = np.exp(-t**2/(2*t_lc**2)) * ( E0*R0/(v0*t_lc**2) + eps_t )\n",
    "    \n",
    "    return LC\n",
    "\n",
    "def integrand(t_int,t_lc,M0):\n",
    "    \n",
    "    #this is the heat produced every timestep in the entire material \n",
    "    # erg_eV * avo/79 * M0 is the total heating for the ejecta\n",
    "    eps = erg_eV* avo/79. * M0 * (t_int/day)**(-1.5)\n",
    "\n",
    "    # the section that should be integrated\n",
    "    integral = eps*(t_int/t_lc**2) * np.exp(t_int**2/(2*t_lc**2)) \n",
    "    \n",
    "    return integral\n"
   ]
  },
  {
   "cell_type": "code",
   "execution_count": null,
   "metadata": {},
   "outputs": [],
   "source": [
    "\n"
   ]
  },
  {
   "cell_type": "markdown",
   "metadata": {},
   "source": [
    "### Integrating heating section and adding to licgtcurve"
   ]
  },
  {
   "cell_type": "code",
   "execution_count": 4,
   "metadata": {},
   "outputs": [
    {
     "name": "stdout",
     "output_type": "stream",
     "text": [
      "8.183059145794253\n"
     ]
    }
   ],
   "source": [
    "# Here we pick the intial values\n",
    "# CGS\n",
    "M0 = 1e-2*Mo #g\n",
    "E0 = 1e50 # ergs\n",
    "v0 = np.sqrt(2*E0/M0) #cm/s\n",
    "R0 =  10*1e5 #10 km in cm  \n",
    "kappa = 10. # cm^2/g\n",
    "\n",
    "t_lc = (3./(4*np.pi) * (M0*kappa)/(c*v0)) **(1./2)\n",
    "print (t_lc/day)"
   ]
  },
  {
   "cell_type": "code",
   "execution_count": 5,
   "metadata": {
    "scrolled": true
   },
   "outputs": [],
   "source": [
    "#Now we want to do the integration at each time step\n",
    "\n",
    "#This can be done either with a loop:\n",
    "n = 100\n",
    "t_list = np.linspace(0.01,40,n)*day\n",
    "Lum_list = np.zeros(n)\n",
    "\n",
    "for i in range(n):\n",
    "   \n",
    "    t = t_list[i]\n",
    "    eps_t = quad(integrand, 0, t, args=(t_lc,M0))[0]\n",
    "    Lum_list[i] = kilonova_lc(t,t_lc,E0,R0,v0,eps_t)\n",
    " \n",
    "\n"
   ]
  },
  {
   "cell_type": "code",
   "execution_count": 6,
   "metadata": {},
   "outputs": [],
   "source": [
    "# Or we can use the numpy vectorize function\n",
    "t_list = np.linspace(0.01,40,n)*day\n",
    "\n",
    "eps_for_t = np.vectorize(lambda t:quad(integrand, 0, t, args=(t_lc,M0))[0])\n",
    "\n",
    "eps_t = eps_for_t(t_list)\n",
    "Lum_list = kilonova_lc(t_list,t_lc,E0,R0,v0,eps_t)\n",
    "\n"
   ]
  },
  {
   "cell_type": "code",
   "execution_count": 7,
   "metadata": {},
   "outputs": [
    {
     "data": {
      "text/plain": [
       "[]"
      ]
     },
     "execution_count": 7,
     "metadata": {},
     "output_type": "execute_result"
    },
    {
     "data": {
      "image/png": "[encoded data removed]",
      "text/plain": [
       "<Figure size 432x288 with 1 Axes>"
      ]
     },
     "metadata": {
      "needs_background": "light"
     },
     "output_type": "display_data"
    }
   ],
   "source": [
    "# Now we can plot our solution\n",
    "plt.plot(t_list/day,Lum_list,label='lightcurve')\n",
    "\n",
    "plt.xlabel('t [days]')\n",
    "plt.ylabel('Lum [erg/s]')\n",
    "\n",
    "plt.legend()\n",
    "plt.semilogy()\n"
   ]
  },
  {
   "cell_type": "markdown",
   "metadata": {},
   "source": [
    "Yay, lightcurve!"
   ]
  },
  {
   "cell_type": "markdown",
   "metadata": {},
   "source": [
    "# For varying $M_0$, $E_0$,$R_0$ and $\\kappa$\n",
    "\n",
    "Let's figure out which parameter has the biggest impact on the ligthcurve!"
   ]
  },
  {
   "cell_type": "code",
   "execution_count": 8,
   "metadata": {},
   "outputs": [],
   "source": [
    "# make the integration loop into a function, so we can run it for different parameters easily\n",
    "\n",
    "def lc_cal(M0,E0,R0,kappa,label):\n",
    "    \n",
    "    v0 = np.sqrt(2*E0/M0)\n",
    "    t_lc = (3./(4*np.pi) * (M0*kappa)/(c*v0)) **(1./2)\n",
    "    print ('peak time ',t_lc/day)\n",
    "    \n",
    "    n = 100\n",
    "    t_list = np.linspace(0.01,50,n)*day\n",
    "    Lum_list = np.zeros(n)\n",
    "\n",
    "    for i in range(n):\n",
    "\n",
    "        t = t_list[i]\n",
    "        eps_t = quad(integrand, 0, t, args=(t_lc,M0))[0]\n",
    "        Lum_list[i] = kilonova_lc(t,t_lc,E0,R0,v0,eps_t)\n",
    "     \n",
    "    plt.plot(t_list/day,Lum_list,'--',label=label)\n"
   ]
  },
  {
   "cell_type": "markdown",
   "metadata": {},
   "source": [
    "### Varying $M_0$, $E_0$ and$R_0$\n"
   ]
  },
  {
   "cell_type": "code",
   "execution_count": 9,
   "metadata": {},
   "outputs": [
    {
     "name": "stdout",
     "output_type": "stream",
     "text": [
      "peak time  8.183059145794253\n",
      "peak time  13.762210203015021\n",
      "peak time  8.183059145794253\n",
      "peak time  6.881105101507511\n"
     ]
    },
    {
     "data": {
      "text/plain": [
       "Text(0, 0.5, 'Lum [erg/s]')"
      ]
     },
     "execution_count": 9,
     "metadata": {},
     "output_type": "execute_result"
    },
    {
     "data": {
      "image/png": "[encoded data removed]",
      "text/plain": [
       "<Figure size 432x288 with 1 Axes>"
      ]
     },
     "metadata": {
      "needs_background": "light"
     },
     "output_type": "display_data"
    }
   ],
   "source": [
    "# Here we call the function from above\n",
    "# The function variables for \"lc_cal\" are M0,E0,R0,kappa all in cgs and a label\n",
    "\n",
    "# first our default parameters\n",
    "lc_cal(1e-2*Mo,1e50,10*1e5,10.,r'$M_{ej} = 10^{-2}*M_\\odot,R_0 = 10km,E_0 = 1e50$ ergs')\n",
    "\n",
    "# then changing the mass \n",
    "lc_cal(2e-2*Mo,1e50,10**6,10.,r'$M_{ej} =2*10^{-2}*M_\\odot$')\n",
    "\n",
    "# changing the intial cloud size\n",
    "lc_cal(1e-2*Mo,1e50,10**11,10.,r'$R_0 =10^{11}$ cm ')\n",
    "\n",
    "# and chaning the explosion energy\n",
    "lc_cal(1e-2*Mo,2e50,10*1e5,10.,r'$E_0 =2e50$ ergs')\n",
    "\n",
    "plt.legend()\n",
    "plt.semilogy()\n",
    "plt.xlabel('t [days]')\n",
    "plt.ylabel('Lum [erg/s]')"
   ]
  },
  {
   "cell_type": "markdown",
   "metadata": {},
   "source": [
    "We don't actually know the amount of material ejected, but the lightcurve peak time changes  is depending on it. This is good news, as it means we can fit observations to ejecta mass!\n",
    "\n",
    "Changing the energy has an effect on the peak luminosity.\n",
    "\n",
    "Finally we have to change the size drastically to see an effect. Real changes in the ligtcurve are only seen when the intial size i close to the photosphere radius. \n"
   ]
  },
  {
   "cell_type": "markdown",
   "metadata": {},
   "source": [
    "### Varying $\\kappa$\n",
    "\n",
    "The kilonova that has been seen, had a blue and a red part. \n",
    "We think this is coursed by two different ejections of material, which had different electron fractions and therefore different compositions and different opacities."
   ]
  },
  {
   "cell_type": "code",
   "execution_count": 10,
   "metadata": {},
   "outputs": [
    {
     "name": "stdout",
     "output_type": "stream",
     "text": [
      "peak time  2.5877105128581706\n",
      "peak time  8.183059145794253\n"
     ]
    },
    {
     "data": {
      "text/plain": [
       "Text(0, 0.5, 'Lum [erg/s]')"
      ]
     },
     "execution_count": 10,
     "metadata": {},
     "output_type": "execute_result"
    },
    {
     "data": {
      "image/png": "[encoded data removed]",
      "text/plain": [
       "<Figure size 432x288 with 1 Axes>"
      ]
     },
     "metadata": {
      "needs_background": "light"
     },
     "output_type": "display_data"
    }
   ],
   "source": [
    "# Here we call the function from above again,\n",
    "# This time we vary the last important parameter ka\n",
    "lc_cal(1e-2*Mo,1e50,10*1e5,1.,r'blue part, $\\kappa = 1 cm^2 g^{-1}$')\n",
    "lc_cal(1e-2*Mo,1e50,10*1e5,10.,r'red part, $\\kappa = 10 cm^2 g^{-1}$')\n",
    "\n",
    "\n",
    "plt.legend()\n",
    "plt.semilogy()\n",
    "plt.xlabel('t [days]')\n",
    "plt.ylabel('Lum [erg/s]')"
   ]
  },
  {
   "cell_type": "code",
   "execution_count": null,
   "metadata": {},
   "outputs": [],
   "source": []
  }
 ],
 "metadata": {
  "kernelspec": {
   "display_name": "Python 3",
   "language": "python",
   "name": "python3"
  },
  "language_info": {
   "codemirror_mode": {
    "name": "ipython",
    "version": 3
   },
   "file_extension": ".py",
   "mimetype": "text/x-python",
   "name": "python",
   "nbconvert_exporter": "python",
   "pygments_lexer": "ipython3",
   "version": "3.7.9"
  }
 },
 "nbformat": 4,
 "nbformat_minor": 2
}
